{
 "cells": [
  {
   "cell_type": "code",
   "execution_count": 1,
   "metadata": {},
   "outputs": [],
   "source": [
    "from sklearn import datasets\n",
    "import matplotlib.pyplot as plt\n",
    "import matplotlib.cm as cmx\n",
    "import matplotlib.colors as colors\n",
    "import numpy as np\n",
    "%matplotlib inline"
   ]
  },
  {
   "cell_type": "markdown",
   "metadata": {},
   "source": [
    "$$\\frac{1}{m}\\sum_{i=1}^m (x^{(i)T}w)^2 = \\frac{1}{m}\\sum_{i=1}^m w^T x^{(i)} x^{(i)T}w =\\sum_{i=1}^m w^T (\\frac{1}{m} x^{(i)} x^{(i)T}) w_1$$"
   ]
  },
  {
   "attachments": {},
   "cell_type": "markdown",
   "metadata": {},
   "source": [
    "从零开始实现主成分分析(PCA)算法： https://blog.csdn.net/u013719780/article/details/78352262\n",
    "\n",
    "PCA的数学原理：https://www.cnblogs.com/mikewolf2002/p/3429711.html"
   ]
  },
  {
   "cell_type": "code",
   "execution_count": 48,
   "metadata": {
    "scrolled": true
   },
   "outputs": [
    {
     "data": {
      "image/png": "[encoded data removed]",
      "text/plain": [
       "<Figure size 432x288 with 1 Axes>"
      ]
     },
     "metadata": {},
     "output_type": "display_data"
    }
   ],
   "source": [
    "def shuffle_data(X, y, seed=None):\n",
    "    if seed:\n",
    "        np.random.seed(seed)\n",
    "\n",
    "    idx = np.arange(X.shape[0])\n",
    "    np.random.shuffle(idx)\n",
    "\n",
    "    return X[idx], y[idx]\n",
    "\n",
    "\n",
    "\n",
    "# 正规化数据集 X\n",
    "def normalize(X, axis=-1, p=2):\n",
    "    lp_norm = np.atleast_1d(np.linalg.norm(X, p, axis))\n",
    "    lp_norm[lp_norm == 0] = 1\n",
    "    return X / np.expand_dims(lp_norm, axis)\n",
    "\n",
    "\n",
    "# 标准化数据集 X\n",
    "def standardize(X):\n",
    "    X_std = np.zeros(X.shape)\n",
    "    mean = X.mean(axis=0)\n",
    "    std = X.std(axis=0)\n",
    "\n",
    "    # 做除法运算时请永远记住分母不能等于0的情形\n",
    "    # X_std = (X - X.mean(axis=0)) / X.std(axis=0) \n",
    "    for col in range(np.shape(X)[1]):\n",
    "        if std[col]:\n",
    "            X_std[:, col] = (X_std[:, col] - mean[col]) / std[col]\n",
    "\n",
    "    return X_std\n",
    "\n",
    "\n",
    "# 划分数据集为训练集和测试集\n",
    "def train_test_split(X, y, test_size=0.2, shuffle=True, seed=None):\n",
    "    if shuffle:\n",
    "        X, y = shuffle_data(X, y, seed)\n",
    "\n",
    "    n_train_samples = int(X.shape[0] * (1-test_size))\n",
    "    x_train, x_test = X[:n_train_samples], X[n_train_samples:]\n",
    "    y_train, y_test = y[:n_train_samples], y[n_train_samples:]\n",
    "\n",
    "    return x_train, x_test, y_train, y_test\n",
    "\n",
    "\n",
    "\n",
    "# 计算矩阵X的协方差矩阵\n",
    "def calculate_covariance_matrix(X, Y=np.empty((0,0))):\n",
    "    if not Y.any():\n",
    "        Y = X\n",
    "    n_samples = np.shape(X)[0]\n",
    "    covariance_matrix = (1 / (n_samples-1)) * (X - X.mean(axis=0)).T.dot(Y - Y.mean(axis=0))\n",
    "\n",
    "    return np.array(covariance_matrix, dtype=float)\n",
    "\n",
    "\n",
    "# 计算数据集X每列的方差\n",
    "def calculate_variance(X):\n",
    "    n_samples = np.shape(X)[0]\n",
    "    variance = (1 / n_samples) * np.diag((X - X.mean(axis=0)).T.dot(X - X.mean(axis=0)))\n",
    "    return variance\n",
    "\n",
    "\n",
    "# 计算数据集X每列的标准差\n",
    "def calculate_std_dev(X):\n",
    "    std_dev = np.sqrt(calculate_variance(X))\n",
    "    return std_dev\n",
    "\n",
    "\n",
    "# 计算相关系数矩阵\n",
    "def calculate_correlation_matrix(X, Y=np.empty([0])):\n",
    "    # 先计算协方差矩阵\n",
    "    covariance_matrix = calculate_covariance_matrix(X, Y)\n",
    "    # 计算X, Y的标准差\n",
    "    std_dev_X = np.expand_dims(calculate_std_dev(X), 1)\n",
    "    std_dev_y = np.expand_dims(calculate_std_dev(Y), 1)\n",
    "    correlation_matrix = np.divide(covariance_matrix, std_dev_X.dot(std_dev_y.T))\n",
    "\n",
    "    return np.array(correlation_matrix, dtype=float)\n",
    "\n",
    "\n",
    "\n",
    "class PCA():\n",
    "    \"\"\"\n",
    "    主成份分析算法PCA，非监督学习算法.\n",
    "    \"\"\"\n",
    "    def __init__(self):\n",
    "        self.eigen_values = None\n",
    "        self.eigen_vectors = None\n",
    "        self.k = 2\n",
    "\n",
    "    def transform(self, X):\n",
    "        \"\"\" \n",
    "        将原始数据集X通过PCA进行降维\n",
    "        \"\"\"\n",
    "        covariance = calculate_covariance_matrix(X)\n",
    "\n",
    "        # 求解特征值和特征向量\n",
    "        self.eigen_values, self.eigen_vectors = np.linalg.eig(covariance)\n",
    "\n",
    "        # 将特征值从大到小进行排序，注意特征向量是按列排的，即self.eigen_vectors第k列是self.eigen_values中第k个特征值对应的特征向量\n",
    "        idx = self.eigen_values.argsort()[::-1]\n",
    "        eigenvalues = self.eigen_values[idx][:self.k]\n",
    "        eigenvectors = self.eigen_vectors[:, idx][:, :self.k]\n",
    "\n",
    "        # 将原始数据集X映射到低维空间\n",
    "        X_transformed = X.dot(eigenvectors)\n",
    "\n",
    "        return X_transformed\n",
    "\n",
    "\n",
    "def main():\n",
    "    # Load the dataset\n",
    "    data = datasets.load_iris()\n",
    "    X = data.data\n",
    "    y = data.target\n",
    "\n",
    "    # 将数据集X映射到低维空间\n",
    "    X_trans = PCA().transform(X)\n",
    "\n",
    "    x1 = X_trans[:, 0]\n",
    "    x2 = X_trans[:, 1]\n",
    "\n",
    "    cmap = plt.get_cmap('viridis')\n",
    "    colors = [cmap(i) for i in np.linspace(0, 1, len(np.unique(y)))]\n",
    "\n",
    "    class_distr = []\n",
    "    # Plot the different class distributions\n",
    "    for i, l in enumerate(np.unique(y)):\n",
    "        _x1 = x1[y == l]\n",
    "        _x2 = x2[y == l]\n",
    "        _y = y[y == l]\n",
    "        class_distr.append(plt.scatter(_x1, _x2, color=colors[i]))\n",
    "\n",
    "    # Add a legend\n",
    "    plt.legend(class_distr, y, loc=1)\n",
    "\n",
    "    # Axis labels\n",
    "    plt.xlabel('Principal Component 1')\n",
    "    plt.ylabel('Principal Component 2')\n",
    "    plt.show()\n",
    "\n",
    "\n",
    "\n",
    "main()\n"
   ]
  },
  {
   "cell_type": "code",
   "execution_count": 4,
   "metadata": {},
   "outputs": [
    {
     "name": "stdout",
     "output_type": "stream",
     "text": [
      "[[ 0  1  2  3]\n",
      " [ 4  5  6  7]\n",
      " [ 8  9 10 11]\n",
      " [12 13 14 15]]\n",
      "********************************************************************************\n",
      "[24 28 32 36]\n"
     ]
    }
   ],
   "source": [
    "a = np.arange(16)\n",
    "a = a.reshape(4,4)\n",
    "print(a)\n",
    "print \"*\"*80\n",
    "print np.sum(a, axis=0)"
   ]
  },
  {
   "cell_type": "code",
   "execution_count": 7,
   "metadata": {},
   "outputs": [
    {
     "data": {
      "image/png": "[encoded data removed]",
      "text/plain": [
       "<Figure size 432x288 with 1 Axes>"
      ]
     },
     "metadata": {},
     "output_type": "display_data"
    }
   ],
   "source": [
    "X = np.empty((100, 2))\n",
    "X[: , 0]  = np.random.uniform(0., 100., size=100)\n",
    "X[: , 1] = 0.75 * X[:, 0] + 3. + np.random.normal(0., 10., size=100)\n",
    "\n",
    "plt.scatter(X[:, 0], X[:, 1])\n",
    "plt.show()"
   ]
  },
  {
   "cell_type": "code",
   "execution_count": 5,
   "metadata": {},
   "outputs": [],
   "source": [
    "def demean(X):\n",
    "    return X - np.mean(X, axis=0)"
   ]
  },
  {
   "cell_type": "code",
   "execution_count": 9,
   "metadata": {},
   "outputs": [
    {
     "data": {
      "text/plain": [
       "<matplotlib.collections.PathCollection at 0x7fb0a3342e10>"
      ]
     },
     "execution_count": 9,
     "metadata": {},
     "output_type": "execute_result"
    },
    {
     "data": {
      "image/png": "[encoded data removed]",
      "text/plain": [
       "<Figure size 432x288 with 1 Axes>"
      ]
     },
     "metadata": {},
     "output_type": "display_data"
    }
   ],
   "source": [
    "X_demean = demean(X)\n",
    "plt.scatter(X_demean[:, 0], X_demean[:, 1])"
   ]
  },
  {
   "cell_type": "markdown",
   "metadata": {},
   "source": [
    "# 梯度上升法"
   ]
  },
  {
   "cell_type": "code",
   "execution_count": 27,
   "metadata": {},
   "outputs": [
    {
     "data": {
      "text/plain": [
       "[<matplotlib.lines.Line2D at 0x7fb0a3190a10>,\n",
       " <matplotlib.lines.Line2D at 0x7fb0a3190ad0>]"
      ]
     },
     "execution_count": 27,
     "metadata": {},
     "output_type": "execute_result"
    },
    {
     "data": {
      "image/png": "[encoded data removed]",
      "text/plain": [
       "<Figure size 432x288 with 1 Axes>"
      ]
     },
     "metadata": {},
     "output_type": "display_data"
    }
   ],
   "source": [
    "plt.plot(1, 2, 3, 4)"
   ]
  },
  {
   "cell_type": "code",
   "execution_count": 12,
   "metadata": {},
   "outputs": [],
   "source": [
    "def f(w, X):\n",
    "    return np.sum((X.dot(w)**2)) / len(X)"
   ]
  },
  {
   "cell_type": "code",
   "execution_count": 14,
   "metadata": {},
   "outputs": [],
   "source": [
    "def df_math(w, X):\n",
    "    return X.T.dot(X.dot(w))*2. / len(X)"
   ]
  },
  {
   "cell_type": "code",
   "execution_count": 17,
   "metadata": {},
   "outputs": [],
   "source": [
    "def df_debug(w, X, epsilon=0.0001):\n",
    "    res = np.empty(len(w))\n",
    "    for i in range(len(w)):\n",
    "        w_1 = w.copy()\n",
    "        w_1[i] += epsilon\n",
    "        w_2 = w.copy()\n",
    "        w_2[i] -= epsilon\n",
    "        res[i] = (f(w_1, X) - f(w_2, X)) / (2*epsilon)\n",
    "        \n",
    "    return res"
   ]
  },
  {
   "cell_type": "code",
   "execution_count": 20,
   "metadata": {},
   "outputs": [],
   "source": [
    "def derection(w):\n",
    "    return w / np.linalg.norm(w)\n",
    "\n",
    "\n",
    "def gradient_ascent(df, X, initial_w, eta, n_iters = 1e4, epsilon=1e-8):\n",
    "    cur_iter = 0\n",
    "    w = derection(initial_w)\n",
    "    while cur_iter < n_iters:\n",
    "        gradient = df(w, X)\n",
    "        last_w = w\n",
    "        w = w + eta * gradient\n",
    "        w = derection(w)\n",
    "        if (abs(f(w, X) - f(last_w, X)) < epsilon):\n",
    "            break\n",
    "            \n",
    "        cur_iter += 1\n",
    "        \n",
    "    return w"
   ]
  }
 ],
 "metadata": {
  "kernelspec": {
   "display_name": "Python 2",
   "language": "python",
   "name": "python2"
  },
  "language_info": {
   "codemirror_mode": {
    "name": "ipython",
    "version": 2
   },
   "file_extension": ".py",
   "mimetype": "text/x-python",
   "name": "python",
   "nbconvert_exporter": "python",
   "pygments_lexer": "ipython2",
   "version": "2.7.15"
  }
 },
 "nbformat": 4,
 "nbformat_minor": 2
}
